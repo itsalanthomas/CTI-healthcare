{
 "cells": [
  {
   "cell_type": "code",
   "execution_count": 1,
   "id": "cf8f3b9e-efe8-4299-9dfd-af1695700faa",
   "metadata": {},
   "outputs": [
    {
     "name": "stdout",
     "output_type": "stream",
     "text": [
      "Found 6 tables\n"
     ]
    }
   ],
   "source": [
    "from selenium import webdriver\n",
    "from selenium.webdriver.chrome.service import Service\n",
    "from webdriver_manager.chrome import ChromeDriverManager\n",
    "from bs4 import BeautifulSoup\n",
    "import pandas as pd\n",
    "import time\n",
    "\n",
    "# auto-download and set up the Chrome driver\n",
    "driver = webdriver.Chrome(service=Service(ChromeDriverManager().install()))\n",
    "\n",
    "# load webpage\n",
    "url = \"https://www.hipaajournal.com/healthcare-data-breach-statistics/\"\n",
    "driver.get(url)\n",
    "\n",
    "# wait for the JavaScript-rendered content to load\n",
    "time.sleep(5)\n",
    "\n",
    "# get the rendered HTML\n",
    "soup = BeautifulSoup(driver.page_source, \"lxml\")\n",
    "\n",
    "# close the browser\n",
    "driver.quit()\n",
    "\n",
    "# find all tables\n",
    "tables = soup.find_all(\"table\")\n",
    "print(f\"Found {len(tables)} tables\")\n",
    "\n",
    "# get the first table\n",
    "table = tables[0]  \n",
    "\n",
    "# Extract rows\n",
    "rows = table.find_all(\"tr\")\n",
    "data = [[cell.get_text(strip=True) for cell in row.find_all(['td', 'th'])] for row in rows]\n",
    "\n",
    "# Convert to DataFrame\n",
    "df = pd.DataFrame(data[1:], columns=data[0])\n",
    "\n",
    "# Save as CSV\n",
    "df.to_csv(\"healthcare_breaches.csv\", index=False)\n",
    "\n"
   ]
  }
 ],
 "metadata": {
  "kernelspec": {
   "display_name": "Python 3 (ipykernel)",
   "language": "python",
   "name": "python3"
  },
  "language_info": {
   "codemirror_mode": {
    "name": "ipython",
    "version": 3
   },
   "file_extension": ".py",
   "mimetype": "text/x-python",
   "name": "python",
   "nbconvert_exporter": "python",
   "pygments_lexer": "ipython3",
   "version": "3.12.0"
  }
 },
 "nbformat": 4,
 "nbformat_minor": 5
}
